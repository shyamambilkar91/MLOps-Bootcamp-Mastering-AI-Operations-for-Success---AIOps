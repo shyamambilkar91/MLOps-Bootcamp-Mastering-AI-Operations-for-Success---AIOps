{
 "cells": [
  {
   "cell_type": "markdown",
   "id": "1c90e6c3",
   "metadata": {},
   "source": [
    "## YAML"
   ]
  },
  {
   "cell_type": "markdown",
   "id": "c99a181a",
   "metadata": {},
   "source": [
    "### What is YAML Mean ?"
   ]
  },
  {
   "cell_type": "raw",
   "id": "982d5c45",
   "metadata": {},
   "source": [
    "YAML:\n",
    "    Y - YAML\n",
    "    A - Ain't\n",
    "    M - Markup\n",
    "    L - Language"
   ]
  },
  {
   "cell_type": "markdown",
   "id": "fb87654e",
   "metadata": {},
   "source": [
    "1. YAML is data serialization language that is ofetn used for writting configuration files.\n",
    "2. Popular Programming language as it is human-readable and easy to understand\n",
    "3. It can also be used in conjuction with other programming languages"
   ]
  },
  {
   "cell_type": "markdown",
   "id": "0cb5c585",
   "metadata": {},
   "source": [
    "### YAML Syntax"
   ]
  },
  {
   "cell_type": "markdown",
   "id": "06f70b17",
   "metadata": {},
   "source": [
    "1. Uses Python-style indentation to indicate nesting\n",
    "2. Whitespaces for indentation & Tab are not allowed\n",
    "3. No Format symbols like braces, square brackets, or quotation tags\n",
    "4. Uses .yml or .yaml file extension"
   ]
  },
  {
   "cell_type": "markdown",
   "id": "6fbb98fd",
   "metadata": {},
   "source": [
    "### YAML Structure"
   ]
  },
  {
   "cell_type": "markdown",
   "id": "973ca362",
   "metadata": {},
   "source": [
    "1. Structure of a YAML file is a map or a list\n",
    "2. Maps allows us to associated key-value pairs\n",
    "3. Keys are unique, and the order dosent matter\n",
    "4. A map in YAML needs to be resolved before it can be closed, and new map is created"
   ]
  },
  {
   "cell_type": "markdown",
   "id": "498b1bbe",
   "metadata": {},
   "source": [
    "### YAML Data Types"
   ]
  },
  {
   "cell_type": "markdown",
   "id": "4f88acb8",
   "metadata": {},
   "source": [
    "1. Scalars (String, integers, dates, numbers or Boolean)\n",
    "2. All list (Collection of items) and it can start with a dash, with indentation separating the parent\n",
    "3. New Map can be created by either increasing indentation level or by resolving the previous map"
   ]
  },
  {
   "cell_type": "code",
   "execution_count": null,
   "id": "55649e1a",
   "metadata": {},
   "outputs": [],
   "source": []
  }
 ],
 "metadata": {
  "kernelspec": {
   "display_name": "Python 3 (ipykernel)",
   "language": "python",
   "name": "python3"
  },
  "language_info": {
   "codemirror_mode": {
    "name": "ipython",
    "version": 3
   },
   "file_extension": ".py",
   "mimetype": "text/x-python",
   "name": "python",
   "nbconvert_exporter": "python",
   "pygments_lexer": "ipython3",
   "version": "3.11.5"
  }
 },
 "nbformat": 4,
 "nbformat_minor": 5
}
