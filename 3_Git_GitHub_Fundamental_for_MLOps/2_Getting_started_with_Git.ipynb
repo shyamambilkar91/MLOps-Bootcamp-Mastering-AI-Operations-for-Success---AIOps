{
 "cells": [
  {
   "cell_type": "markdown",
   "id": "3250f765",
   "metadata": {},
   "source": [
    "# Getting System Ready"
   ]
  },
  {
   "cell_type": "markdown",
   "id": "08768376",
   "metadata": {},
   "source": [
    "### https://git-scm.com/download/win"
   ]
  },
  {
   "cell_type": "markdown",
   "id": "94dd0f65",
   "metadata": {},
   "source": [
    "To install Git, go to the official Git website downloads page for Microsoft Windows [https://git-scm.com/download/win](https://git-scm.com/download/win). This page presents several ways you can download Git.\n",
    "\n",
    "For the Learning Git book, we recommend you use the first and main download option to install Git which provides an installer. To do so, select the **Click here to download** link. This will download an installer that you will use to go through the step-by step installation process. You should accept all the default settings as you go through the installer.\n",
    "\n",
    "<img src=\"image-1.png\" width=650>\n",
    "\n",
    "By using this download option to install Git, you will also have a version of Git installed which is definitely greater than 2.23 which is the minimum version we recommend in order to have access to all the commands in this book.\n",
    "\n",
    "The installer will go through step-by step instructions to take you through the installation process. You should accept all the default settings as you go through the installer. In Follow Along #-#, we present the 13 steps the installer will go through and instruct you to select the default options.\n"
   ]
  },
  {
   "cell_type": "markdown",
   "id": "e40061b9",
   "metadata": {},
   "source": [
    "|     | Follow Along #-#                                                                                                                 |\n",
    "| --- | :------------------------------------------------------------------------------------------------------------------------------- |\n",
    "| 1   | On the **Select Destination Location** screen, accept the default location and select **Next**.                                  |\n",
    "| 2   | On the **Select Components** screen, accept the default location and select **Next**.                                            |\n",
    "| 3   | On the **Select Start Menu Folder** screen, accept the default location and select **Next**.                                     |\n",
    "| 4   | On the **Choosing the default editor used by Git** screen, accept the default location and select **Next**.                      |\n",
    "| 5   | On the **Adjusting the name of the initial branch in new repositories** screen, accept the default location and select **Next**. |\n",
    "| 6   | On the **Adjusting your PATH environment** screen, accept the default location and select **Next**.                              |\n",
    "| 7   | On the **Configuring the line ending conversions** screen, accept the default and select **Next**.                               |\n",
    "| 8   | On the **Configuring the terminal emulator to use with Git Bash** screen, accept the default and select **Next**.                |\n",
    "| 9   | On the **Choose the default behavior of `git pull`** screen, accept the default and select **Next**.                             |\n",
    "| 10  | On the **Choose a credential helper** screen, accept the default and select **Next**.                                            |\n",
    "| 11  | On the **Configuring extra options** screen, accept the default and select **Next**.                                             |\n",
    "| 12  | On the **Configuring experimental options** screen, accept the default and select **Next**.                                      |\n",
    "| 13  | On the **Completing the Git Setup Wizard** screen, select **Finish**.                                                            |\n"
   ]
  },
  {
   "cell_type": "markdown",
   "id": "74ba79b7",
   "metadata": {},
   "source": [
    "Now that you have finished going through the steps of the installer you should have Git installed on your computer. To check whether Git successfully installed, you should open a Git Bash command line window and use the git version command to check what version of Git you have installed on your computer. Let’s do this in Follow Along #-#.\n",
    "\n",
    "|     | Follow Along #-#                                                                 |\n",
    "| --- | :------------------------------------------------------------------------------- |\n",
    "| 1   | Search for the Git Bash command line application and open a command line window. |\n",
    "| 2   | \\$ **`git version`**<br>`git version 2.38.1.windows.1`                           |"
   ]
  },
  {
   "cell_type": "markdown",
   "id": "67596754",
   "metadata": {},
   "source": [
    "What to notice:\n",
    "\n",
    "- The output of the `git version` command shows you what version of Git you have installed on your computer.\n",
    "\n",
    "You have completed Git installation."
   ]
  },
  {
   "cell_type": "markdown",
   "id": "1f82fb71",
   "metadata": {},
   "source": [
    "## Set up authentication credentials to connect over HTTPS\n",
    "\n",
    "## Create a personal access token in GitHub\n",
    "\n",
    "\n",
    "In Chapter 6 of Learning Git, you are instructed to choose a hosting service and set up authentication details to connect to remote repositories over the HTTPS or SSH protocols. If you choose to use the HTTPS protocol and you are using GitHub, you must create a personal access token.\n",
    "\n",
    "The instructions for how to create a personal access token in GitHub are available at: [GitHub Docs - Creating a personal access token](https://docs.github.com/en/authentication/keeping-your-account-and-data-secure/creating-a-personal-access-token).\n",
    "\n",
    "When creating the personal access token in GitHub, keep in mind the below notes:\n",
    "\n",
    "- The Note field represents the name for the personal access token\n",
    "- When selecting an expiration time, we recommend choosing at minimum a time period within which you can finish reading and doing the exercises in the entire book. Otherwise, your personal access token may expire while you're going through the book and you will have to go through the process to create a new one to complete the exercise in the book.\n",
    "- The scope defines what this token will have access to do or authenticate. For the purpose of this book, you must select at least the repo scope.\n",
    "- Save the personal access token in a safe place.\n",
    "\n",
    "> Note: Once you create the authentication credential, for security reasons, you will only see it once. Therefore, you must save it in a secure place. Afterwards, you will only be able to see some details about it, but not the authentication credential itself.\n",
    "\n",
    "\n",
    "## Create a remote repository\n",
    "\n",
    "\n",
    "GitHub\n",
    "\n",
    "- [GitHub Docs - Create a repo](https://docs.github.com/en/get-started/quickstart/create-a-repo)\n",
    "\n",
    "\n",
    "## Create a pull request (merge request)\n",
    "\n",
    "GitHub\n",
    "\n",
    "- [GitHub Docs - Creating a pull request](https://docs.github.com/en/pull-requests/collaborating-with-pull-requests/proposing-changes-to-your-work-with-pull-requests/creating-a-pull-request)\n",
    "\n",
    "Additional notes: You may skip the overview content and go directly to the numbered list of setps in the [Creating the pull request](https://docs.github.com/en/pull-requests/collaborating-with-pull-requests/proposing-changes-to-your-work-with-pull-requests/creating-a-pull-request?tool=webui#creating-the-pull-request) section.\n"
   ]
  },
  {
   "cell_type": "code",
   "execution_count": null,
   "id": "1d27970e",
   "metadata": {},
   "outputs": [],
   "source": []
  }
 ],
 "metadata": {
  "kernelspec": {
   "display_name": "Python 3 (ipykernel)",
   "language": "python",
   "name": "python3"
  },
  "language_info": {
   "codemirror_mode": {
    "name": "ipython",
    "version": 3
   },
   "file_extension": ".py",
   "mimetype": "text/x-python",
   "name": "python",
   "nbconvert_exporter": "python",
   "pygments_lexer": "ipython3",
   "version": "3.11.5"
  }
 },
 "nbformat": 4,
 "nbformat_minor": 5
}
