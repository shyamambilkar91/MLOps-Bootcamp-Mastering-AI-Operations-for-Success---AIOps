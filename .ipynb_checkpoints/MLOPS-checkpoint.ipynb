{
 "cells": [
  {
   "cell_type": "markdown",
   "id": "6dc05d66",
   "metadata": {},
   "source": [
    "# What is MLOps ?"
   ]
  },
  {
   "cell_type": "markdown",
   "id": "15c7ec65",
   "metadata": {},
   "source": [
    "1. Machine Learning operation is a fusion of Machine learning and the operation which is incompasis the process and practice of effective deployement of the Machine learning model on Production environement.\n",
    "2. ML Ops emphsises:\n",
    "    1. Automation\n",
    "    2. Agility\n",
    "    3. Collaboration\n",
    "    4. Contineous Integration and Contineous Delivery\n",
    "3. The goal of ML Ops is Standardizing deployement and management of Machine Learning models which emphesis oprationlization, release, monitoring, performance tracking, reuse, maintanance as well as machine learning Models."
   ]
  },
  {
   "cell_type": "markdown",
   "id": "7d31b694",
   "metadata": {},
   "source": [
    "### What is Diffrence between MLOps and Devops ?"
   ]
  },
  {
   "cell_type": "markdown",
   "id": "9b33b02d",
   "metadata": {},
   "source": [
    "1. Devops is a essential pre-requisite for MLOps\n",
    "2. Devops serves foundation building block without substitute\n",
    "3. Devops is methodology for Agile software release and Contineous Improvement process\n",
    "4. In context of Software, Devops expert in building and deploying software in consisting manner"
   ]
  },
  {
   "cell_type": "markdown",
   "id": "f7e5edb1",
   "metadata": {},
   "source": [
    "**A simple way to define is mlops is that machine learning developement just like devops software developement**"
   ]
  },
  {
   "cell_type": "markdown",
   "id": "c9a98902",
   "metadata": {},
   "source": [
    "# Stages of MLOps"
   ]
  },
  {
   "cell_type": "markdown",
   "id": "9c5016d7",
   "metadata": {},
   "source": [
    "1. MLOps is not just tracking the experiements\n",
    "2. MLOps is not about only deploy to endpoint\n",
    "3. MLops is building automated environment and the processes contineously delivering machine learning project to production enviroment\n",
    "4. MLOPs consist four major components:\n",
    "    1. Data Collection \n",
    "    2. Data Preparation [Preprocessing]\n",
    "    3. Mdoel Developement\n",
    "    4. Model Training\n",
    "    5. ML Service Deployement\n",
    "    6. Contineous Feedback \n",
    "    7. Monitoring\n",
    "    "
   ]
  },
  {
   "cell_type": "markdown",
   "id": "62e7a964",
   "metadata": {},
   "source": [
    "### 1. Data Collection"
   ]
  },
  {
   "cell_type": "markdown",
   "id": "a3849e4f",
   "metadata": {},
   "source": [
    "1. Data is foundation for machine learning\n",
    "2. Machine Learning model is dependent on the data, prior to model developement team engage in:\n",
    "    1. Data Ingestion\n",
    "    2. Preparation \n",
    "    3. Data Exploration\n",
    "3. Effective way of collection of data it is very important to define the goal & Identify the Data Sources"
   ]
  },
  {
   "cell_type": "markdown",
   "id": "746cca8e",
   "metadata": {},
   "source": [
    "### 2. Data Preparation"
   ]
  },
  {
   "cell_type": "markdown",
   "id": "5a072209",
   "metadata": {},
   "source": [
    "1. Prepare, label & Explore new Data\n",
    "2. Categorical to Numerical\n",
    "3. Missing value need to handle\n",
    "4. Convert Row data to Features\n",
    "5. Standardizatin and Normalization\n",
    "6. Handle wrong format of data"
   ]
  },
  {
   "cell_type": "markdown",
   "id": "dfc6b9f7",
   "metadata": {},
   "source": [
    "### 3. Model Developement & Training"
   ]
  },
  {
   "cell_type": "markdown",
   "id": "0d9b89f2",
   "metadata": {},
   "source": [
    "1. In Model Developement training starts with extraction of data for various sources prepare from the row data \n",
    "2. Perform Model Training and Validation\n",
    "3. Evaluation of ML Models"
   ]
  },
  {
   "cell_type": "markdown",
   "id": "607a5d50",
   "metadata": {},
   "source": [
    "**ML Model is crucial Modularized & Versioned Automation Pipeline**"
   ]
  },
  {
   "cell_type": "markdown",
   "id": "0361c9d9",
   "metadata": {},
   "source": [
    "### 4. ML Deployment"
   ]
  },
  {
   "cell_type": "markdown",
   "id": "f73fe506",
   "metadata": {},
   "source": [
    "1. Integrate with existing application\n",
    "2. Create Front End\n",
    "3. Containerized the Application\n",
    "4. API Services\n",
    "5. Model Endpoint"
   ]
  },
  {
   "cell_type": "markdown",
   "id": "4597f3d3",
   "metadata": {},
   "source": [
    "## 5. Contineous Feedback"
   ]
  },
  {
   "cell_type": "markdown",
   "id": "59faf4ca",
   "metadata": {},
   "source": [
    "1. Track Data Infrastructure\n",
    "2. Model\n",
    "3. Application Metrics"
   ]
  },
  {
   "cell_type": "markdown",
   "id": "8d9f8dc1",
   "metadata": {},
   "source": [
    "### 6. Stages of MLOps"
   ]
  },
  {
   "cell_type": "markdown",
   "id": "e2d4f2ec",
   "metadata": {},
   "source": [
    "1. MLOps is holistic approch of comprises of four crucial components:\n",
    "    1. Data Collection & Preparation\n",
    "    2. Model Development & Training\n",
    "    3. Ml Service Deployement\n",
    "    4. Contineous Feedback & Monitoring"
   ]
  },
  {
   "cell_type": "code",
   "execution_count": null,
   "id": "16f0e77a",
   "metadata": {},
   "outputs": [],
   "source": []
  }
 ],
 "metadata": {
  "kernelspec": {
   "display_name": "Python 3 (ipykernel)",
   "language": "python",
   "name": "python3"
  },
  "language_info": {
   "codemirror_mode": {
    "name": "ipython",
    "version": 3
   },
   "file_extension": ".py",
   "mimetype": "text/x-python",
   "name": "python",
   "nbconvert_exporter": "python",
   "pygments_lexer": "ipython3",
   "version": "3.11.5"
  }
 },
 "nbformat": 4,
 "nbformat_minor": 5
}
