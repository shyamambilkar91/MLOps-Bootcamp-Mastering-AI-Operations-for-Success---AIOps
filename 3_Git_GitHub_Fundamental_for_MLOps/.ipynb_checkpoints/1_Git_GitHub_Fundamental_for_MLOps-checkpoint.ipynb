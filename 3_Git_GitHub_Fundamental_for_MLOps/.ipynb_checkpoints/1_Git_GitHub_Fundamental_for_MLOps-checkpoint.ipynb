{
 "cells": [
  {
   "cell_type": "markdown",
   "id": "92d82293",
   "metadata": {},
   "source": [
    "# Introduction to Git"
   ]
  },
  {
   "cell_type": "markdown",
   "id": "af4fa851",
   "metadata": {},
   "source": [
    "1. Git is an open source distributed version control system [DVCS].\n",
    "2. Version control system allows you to record changes to file over a period of time\n",
    "3. Git is used to maintain the historical and current versions of source code\n",
    "4. Usage at High Level:\n",
    "    1. In a project, developers have copy of all version of the code stored in the central server\n",
    "    2. Git allows developers to do the following:\n",
    "        1. Track the changes, who made the changes, and when\n",
    "        2. Rollback/Restore changes\n",
    "        3. allows multiple developers to coordinate and work on the same files\n",
    "        4. Maintain copy of the files at the remote and local level"
   ]
  },
  {
   "cell_type": "markdown",
   "id": "71679507",
   "metadata": {},
   "source": [
    "## What is Git ? "
   ]
  },
  {
   "cell_type": "markdown",
   "id": "8234fa16",
   "metadata": {},
   "source": [
    "1. Git is Technology designed for tracking changes in a project and facilating collaboration among multiple contributors\n",
    "2. A Git controlled project as its core consist of folder containing files, with git monitoring changes made to this files\n",
    "3. Gits primary function is to enable the storage of various versions of Project work, earning it the little of version control system"
   ]
  },
  {
   "cell_type": "markdown",
   "id": "8c1a2330",
   "metadata": {},
   "source": [
    "## Role of Git in MLOps ?"
   ]
  },
  {
   "cell_type": "markdown",
   "id": "68aa50f7",
   "metadata": {},
   "source": [
    "#### 1. Version Control:\n",
    "    1. Git Plays crucial role in MLOps by providing version control for machine learning models, code, and configuration files. \n",
    "    2. This ensure tracebility and reproducebility of experiments and model deployements\n",
    "    \n",
    "#### 2. Collaboration and Team Workflow:\n",
    "    1. Git facilates the collaboration among data scientists, engineer, and other team members allowing them to work concurrently on different aspects of Machine Learning pipeline\n",
    "    2. It enables the seamless integration of changes and helps manage collaborative developments efforts.\n",
    "    \n",
    "#### 3. Experiment Tracking:\n",
    "    1. Git, is conjuction with tools like Git Based platforms or mlflow, helps track and manage machine learning experiments.\n",
    "    2. This includes, recording parameters, metrics, and code versions, making it easier to reproduce and compare results.\n",
    "#### 4. Branching for Experimentation:\n",
    "    1. Git Branching feature allows for the creation of isolated branches to experiments with diffrent model version or parameter settings.\n",
    "    2. This supports, systematic approch to testing and refining model without affecting the main codebase.\n",
    "\n",
    "#### 5. Contineour Integration (CI) and Contineous Deployement (CD):\n",
    "    1. Git integrate with CI/CD system to automate the testing and deployement of machine learning models.\n",
    "    2. This insure that the changes to the codebase are validated and successful builds trigger automated deployement pipeline for model updates.\n",
    "    \n",
    "#### 6. Infrastructure as Code (IaC):\n",
    "    1. Git is used to version control infrastructured configured as code, ensuring consistancy between, developement tesing and production environments.\n",
    "    2. This is perticularly relavant in MLOps, where the deployement infrastructure is critical components.\n",
    "    \n",
    "#### 7. Collaboration Across Teams:\n",
    "    1. In MLOps, where teams may include data scientists, engineer, and operational professionals, Git serves as common platform to collaboration and enabling effective communication and cordination across different stages of the machine learning lifecycle.\n",
    "#### 8. Artifacts Management:\n",
    "    1. Git is used in conjuction with artifacts repositories to manage and version control artifacts such as trained models, datasets, and other dependencies.\n",
    "    2. This ensure that all components of machine learning project are tracked and reproduceble.\n",
    "#### 9. Auditability and Comlience:\n",
    "    1. Git's commits history provides an audit trail for all changes made to the codebase and models.\n",
    "    2. This is crucial for complience purpose, allowing organization to traceback and understand the evalution of models and associated code\n",
    "   "
   ]
  }
 ],
 "metadata": {
  "kernelspec": {
   "display_name": "Python 3 (ipykernel)",
   "language": "python",
   "name": "python3"
  },
  "language_info": {
   "codemirror_mode": {
    "name": "ipython",
    "version": 3
   },
   "file_extension": ".py",
   "mimetype": "text/x-python",
   "name": "python",
   "nbconvert_exporter": "python",
   "pygments_lexer": "ipython3",
   "version": "3.11.5"
  }
 },
 "nbformat": 4,
 "nbformat_minor": 5
}
